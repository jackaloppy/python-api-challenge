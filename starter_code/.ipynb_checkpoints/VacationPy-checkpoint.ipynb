{
 "cells": [
  {
   "cell_type": "markdown",
   "metadata": {},
   "source": [
    "# VacationPy\n",
    "----\n",
    "\n",
    "#### Note\n",
    "* Keep an eye on your API usage. Use https://developers.google.com/maps/reporting/gmp-reporting as reference for how to monitor your usage and billing.\n",
    "\n",
    "* Instructions have been included for each segment. You do not have to follow them exactly, but they are included to help you think through the steps."
   ]
  },
  {
   "cell_type": "code",
   "execution_count": 1,
   "metadata": {},
   "outputs": [],
   "source": [
    "# Dependencies and Setup\n",
    "import matplotlib.pyplot as plt\n",
    "import pandas as pd\n",
    "import numpy as np\n",
    "import requests\n",
    "import gmaps\n",
    "import os\n",
    "\n",
    "# Import API key\n",
    "from api_keys import g_key"
   ]
  },
  {
   "cell_type": "markdown",
   "metadata": {},
   "source": [
    "### Store Part I results into DataFrame\n",
    "* Load the csv exported in Part I to a DataFrame"
   ]
  },
  {
   "cell_type": "code",
   "execution_count": 2,
   "metadata": {},
   "outputs": [
    {
     "data": {
      "text/html": [
       "<div>\n",
       "<style scoped>\n",
       "    .dataframe tbody tr th:only-of-type {\n",
       "        vertical-align: middle;\n",
       "    }\n",
       "\n",
       "    .dataframe tbody tr th {\n",
       "        vertical-align: top;\n",
       "    }\n",
       "\n",
       "    .dataframe thead th {\n",
       "        text-align: right;\n",
       "    }\n",
       "</style>\n",
       "<table border=\"1\" class=\"dataframe\">\n",
       "  <thead>\n",
       "    <tr style=\"text-align: right;\">\n",
       "      <th></th>\n",
       "      <th>City ID</th>\n",
       "      <th>City</th>\n",
       "      <th>Lat</th>\n",
       "      <th>Lng</th>\n",
       "      <th>Max Temp</th>\n",
       "      <th>Humidity</th>\n",
       "      <th>Cloudiness</th>\n",
       "      <th>Wind Speed</th>\n",
       "      <th>Country</th>\n",
       "      <th>Date</th>\n",
       "    </tr>\n",
       "  </thead>\n",
       "  <tbody>\n",
       "    <tr>\n",
       "      <th>0</th>\n",
       "      <td>0</td>\n",
       "      <td>Oistins</td>\n",
       "      <td>13.07</td>\n",
       "      <td>-59.53</td>\n",
       "      <td>80.60</td>\n",
       "      <td>78</td>\n",
       "      <td>40</td>\n",
       "      <td>4.70</td>\n",
       "      <td>BB</td>\n",
       "      <td>2020-10-20 04:10:32</td>\n",
       "    </tr>\n",
       "    <tr>\n",
       "      <th>1</th>\n",
       "      <td>1</td>\n",
       "      <td>Sistranda</td>\n",
       "      <td>63.73</td>\n",
       "      <td>8.83</td>\n",
       "      <td>33.80</td>\n",
       "      <td>71</td>\n",
       "      <td>20</td>\n",
       "      <td>14.99</td>\n",
       "      <td>NO</td>\n",
       "      <td>2020-10-20 04:14:20</td>\n",
       "    </tr>\n",
       "    <tr>\n",
       "      <th>2</th>\n",
       "      <td>2</td>\n",
       "      <td>Hilo</td>\n",
       "      <td>19.73</td>\n",
       "      <td>-155.09</td>\n",
       "      <td>80.60</td>\n",
       "      <td>65</td>\n",
       "      <td>1</td>\n",
       "      <td>9.17</td>\n",
       "      <td>US</td>\n",
       "      <td>2020-10-20 04:15:13</td>\n",
       "    </tr>\n",
       "    <tr>\n",
       "      <th>3</th>\n",
       "      <td>3</td>\n",
       "      <td>Yumen</td>\n",
       "      <td>40.28</td>\n",
       "      <td>97.20</td>\n",
       "      <td>59.59</td>\n",
       "      <td>28</td>\n",
       "      <td>26</td>\n",
       "      <td>28.68</td>\n",
       "      <td>CN</td>\n",
       "      <td>2020-10-20 04:16:40</td>\n",
       "    </tr>\n",
       "    <tr>\n",
       "      <th>4</th>\n",
       "      <td>4</td>\n",
       "      <td>Atuona</td>\n",
       "      <td>-9.80</td>\n",
       "      <td>-139.03</td>\n",
       "      <td>78.57</td>\n",
       "      <td>75</td>\n",
       "      <td>1</td>\n",
       "      <td>18.43</td>\n",
       "      <td>PF</td>\n",
       "      <td>2020-10-20 04:16:40</td>\n",
       "    </tr>\n",
       "  </tbody>\n",
       "</table>\n",
       "</div>"
      ],
      "text/plain": [
       "   City ID       City    Lat     Lng  Max Temp  Humidity  Cloudiness  \\\n",
       "0        0    Oistins  13.07  -59.53     80.60        78          40   \n",
       "1        1  Sistranda  63.73    8.83     33.80        71          20   \n",
       "2        2       Hilo  19.73 -155.09     80.60        65           1   \n",
       "3        3      Yumen  40.28   97.20     59.59        28          26   \n",
       "4        4     Atuona  -9.80 -139.03     78.57        75           1   \n",
       "\n",
       "   Wind Speed Country                 Date  \n",
       "0        4.70      BB  2020-10-20 04:10:32  \n",
       "1       14.99      NO  2020-10-20 04:14:20  \n",
       "2        9.17      US  2020-10-20 04:15:13  \n",
       "3       28.68      CN  2020-10-20 04:16:40  \n",
       "4       18.43      PF  2020-10-20 04:16:40  "
      ]
     },
     "execution_count": 2,
     "metadata": {},
     "output_type": "execute_result"
    }
   ],
   "source": [
    "cities_df = pd.read_csv('../output_data/cities.csv')\n",
    "cities_df.dropna(inplace = True) \n",
    "cities_df.head()"
   ]
  },
  {
   "cell_type": "markdown",
   "metadata": {},
   "source": [
    "### Humidity Heatmap\n",
    "* Configure gmaps.\n",
    "* Use the Lat and Lng as locations and Humidity as the weight.\n",
    "* Add Heatmap layer to map."
   ]
  },
  {
   "cell_type": "code",
   "execution_count": 3,
   "metadata": {},
   "outputs": [],
   "source": [
    "gmaps.configure(api_key=g_key)"
   ]
  },
  {
   "cell_type": "code",
   "execution_count": 4,
   "metadata": {},
   "outputs": [
    {
     "data": {
      "application/vnd.jupyter.widget-view+json": {
       "model_id": "52ab9e6fb2154f79bc9e40f601b7cc45",
       "version_major": 2,
       "version_minor": 0
      },
      "text/plain": [
       "Figure(layout=FigureLayout(height='420px'))"
      ]
     },
     "metadata": {},
     "output_type": "display_data"
    }
   ],
   "source": [
    "locations = cities_df[[\"Lat\", \"Lng\"]]\n",
    "humidity = cities_df[\"Humidity\"]\n",
    "fig = gmaps.figure()\n",
    "heat_layer = gmaps.heatmap_layer(locations, weights=humidity, \n",
    "                                 dissipating=False, max_intensity=150,\n",
    "                                 point_radius=3)\n",
    "fig.add_layer(heat_layer)\n",
    "fig"
   ]
  },
  {
   "cell_type": "markdown",
   "metadata": {},
   "source": [
    "### Create new DataFrame fitting weather criteria\n",
    "* Narrow down the cities to fit weather conditions.\n",
    "* Drop any rows will null values."
   ]
  },
  {
   "cell_type": "code",
   "execution_count": 5,
   "metadata": {},
   "outputs": [
    {
     "data": {
      "text/html": [
       "<div>\n",
       "<style scoped>\n",
       "    .dataframe tbody tr th:only-of-type {\n",
       "        vertical-align: middle;\n",
       "    }\n",
       "\n",
       "    .dataframe tbody tr th {\n",
       "        vertical-align: top;\n",
       "    }\n",
       "\n",
       "    .dataframe thead th {\n",
       "        text-align: right;\n",
       "    }\n",
       "</style>\n",
       "<table border=\"1\" class=\"dataframe\">\n",
       "  <thead>\n",
       "    <tr style=\"text-align: right;\">\n",
       "      <th></th>\n",
       "      <th>City ID</th>\n",
       "      <th>City</th>\n",
       "      <th>Lat</th>\n",
       "      <th>Lng</th>\n",
       "      <th>Max Temp</th>\n",
       "      <th>Humidity</th>\n",
       "      <th>Cloudiness</th>\n",
       "      <th>Wind Speed</th>\n",
       "      <th>Country</th>\n",
       "      <th>Date</th>\n",
       "    </tr>\n",
       "  </thead>\n",
       "  <tbody>\n",
       "    <tr>\n",
       "      <th>96</th>\n",
       "      <td>96</td>\n",
       "      <td>Kousséri</td>\n",
       "      <td>12.08</td>\n",
       "      <td>15.03</td>\n",
       "      <td>73.40</td>\n",
       "      <td>78</td>\n",
       "      <td>0</td>\n",
       "      <td>5.82</td>\n",
       "      <td>CM</td>\n",
       "      <td>2020-10-20 04:17:03</td>\n",
       "    </tr>\n",
       "    <tr>\n",
       "      <th>115</th>\n",
       "      <td>115</td>\n",
       "      <td>Nioro</td>\n",
       "      <td>13.35</td>\n",
       "      <td>-15.75</td>\n",
       "      <td>76.82</td>\n",
       "      <td>70</td>\n",
       "      <td>0</td>\n",
       "      <td>3.51</td>\n",
       "      <td>GM</td>\n",
       "      <td>2020-10-20 04:17:09</td>\n",
       "    </tr>\n",
       "    <tr>\n",
       "      <th>344</th>\n",
       "      <td>344</td>\n",
       "      <td>Barentu</td>\n",
       "      <td>15.11</td>\n",
       "      <td>37.59</td>\n",
       "      <td>71.37</td>\n",
       "      <td>50</td>\n",
       "      <td>0</td>\n",
       "      <td>4.07</td>\n",
       "      <td>ER</td>\n",
       "      <td>2020-10-20 04:18:09</td>\n",
       "    </tr>\n",
       "    <tr>\n",
       "      <th>400</th>\n",
       "      <td>400</td>\n",
       "      <td>Beloha</td>\n",
       "      <td>-25.17</td>\n",
       "      <td>45.05</td>\n",
       "      <td>72.97</td>\n",
       "      <td>49</td>\n",
       "      <td>0</td>\n",
       "      <td>3.36</td>\n",
       "      <td>MG</td>\n",
       "      <td>2020-10-20 04:18:29</td>\n",
       "    </tr>\n",
       "    <tr>\n",
       "      <th>437</th>\n",
       "      <td>437</td>\n",
       "      <td>Abu Dhabi</td>\n",
       "      <td>24.47</td>\n",
       "      <td>54.37</td>\n",
       "      <td>75.20</td>\n",
       "      <td>78</td>\n",
       "      <td>0</td>\n",
       "      <td>1.12</td>\n",
       "      <td>AE</td>\n",
       "      <td>2020-10-20 04:15:08</td>\n",
       "    </tr>\n",
       "    <tr>\n",
       "      <th>453</th>\n",
       "      <td>453</td>\n",
       "      <td>Nsanje</td>\n",
       "      <td>-16.92</td>\n",
       "      <td>35.26</td>\n",
       "      <td>71.15</td>\n",
       "      <td>77</td>\n",
       "      <td>0</td>\n",
       "      <td>3.62</td>\n",
       "      <td>MW</td>\n",
       "      <td>2020-10-20 04:18:46</td>\n",
       "    </tr>\n",
       "    <tr>\n",
       "      <th>509</th>\n",
       "      <td>509</td>\n",
       "      <td>San Cosme y Damián</td>\n",
       "      <td>-27.32</td>\n",
       "      <td>-56.35</td>\n",
       "      <td>72.59</td>\n",
       "      <td>52</td>\n",
       "      <td>0</td>\n",
       "      <td>5.26</td>\n",
       "      <td>PY</td>\n",
       "      <td>2020-10-20 04:18:59</td>\n",
       "    </tr>\n",
       "    <tr>\n",
       "      <th>515</th>\n",
       "      <td>515</td>\n",
       "      <td>Ziyang</td>\n",
       "      <td>29.25</td>\n",
       "      <td>117.85</td>\n",
       "      <td>72.05</td>\n",
       "      <td>54</td>\n",
       "      <td>0</td>\n",
       "      <td>3.60</td>\n",
       "      <td>CN</td>\n",
       "      <td>2020-10-20 04:19:00</td>\n",
       "    </tr>\n",
       "    <tr>\n",
       "      <th>532</th>\n",
       "      <td>532</td>\n",
       "      <td>Saint-Pierre</td>\n",
       "      <td>-21.34</td>\n",
       "      <td>55.48</td>\n",
       "      <td>78.80</td>\n",
       "      <td>50</td>\n",
       "      <td>0</td>\n",
       "      <td>4.70</td>\n",
       "      <td>RE</td>\n",
       "      <td>2020-10-20 04:19:04</td>\n",
       "    </tr>\n",
       "  </tbody>\n",
       "</table>\n",
       "</div>"
      ],
      "text/plain": [
       "     City ID                City    Lat     Lng  Max Temp  Humidity  \\\n",
       "96        96            Kousséri  12.08   15.03     73.40        78   \n",
       "115      115               Nioro  13.35  -15.75     76.82        70   \n",
       "344      344             Barentu  15.11   37.59     71.37        50   \n",
       "400      400              Beloha -25.17   45.05     72.97        49   \n",
       "437      437           Abu Dhabi  24.47   54.37     75.20        78   \n",
       "453      453              Nsanje -16.92   35.26     71.15        77   \n",
       "509      509  San Cosme y Damián -27.32  -56.35     72.59        52   \n",
       "515      515              Ziyang  29.25  117.85     72.05        54   \n",
       "532      532        Saint-Pierre -21.34   55.48     78.80        50   \n",
       "\n",
       "     Cloudiness  Wind Speed Country                 Date  \n",
       "96            0        5.82      CM  2020-10-20 04:17:03  \n",
       "115           0        3.51      GM  2020-10-20 04:17:09  \n",
       "344           0        4.07      ER  2020-10-20 04:18:09  \n",
       "400           0        3.36      MG  2020-10-20 04:18:29  \n",
       "437           0        1.12      AE  2020-10-20 04:15:08  \n",
       "453           0        3.62      MW  2020-10-20 04:18:46  \n",
       "509           0        5.26      PY  2020-10-20 04:18:59  \n",
       "515           0        3.60      CN  2020-10-20 04:19:00  \n",
       "532           0        4.70      RE  2020-10-20 04:19:04  "
      ]
     },
     "execution_count": 5,
     "metadata": {},
     "output_type": "execute_result"
    }
   ],
   "source": [
    "ideal_df = cities_df[cities_df[\"Max Temp\"].lt(80) &\n",
    "                    cities_df[\"Max Temp\"].gt(70) &\n",
    "                    cities_df[\"Wind Speed\"].lt(10) & \n",
    "                    cities_df[\"Cloudiness\"].eq(0) &\n",
    "                    cities_df[\"Humidity\"].lt(80) &\n",
    "                    cities_df[\"Humidity\"].gt(30)]\n",
    "ideal_df"
   ]
  },
  {
   "cell_type": "markdown",
   "metadata": {},
   "source": [
    "### Hotel Map\n",
    "* Store into variable named `hotel_df`.\n",
    "* Add a \"Hotel Name\" column to the DataFrame.\n",
    "* Set parameters to search for hotels with 5000 meters.\n",
    "* Hit the Google Places API for each city's coordinates.\n",
    "* Store the first Hotel result into the DataFrame.\n",
    "* Plot markers on top of the heatmap."
   ]
  },
  {
   "cell_type": "code",
   "execution_count": 6,
   "metadata": {},
   "outputs": [],
   "source": [
    "hotel_df = ideal_df[[\"City\", \"Lat\", \"Lng\", \"Country\"]].reset_index(drop=True)\n",
    "hotel_df[\"Hotel Name\"] = \"\""
   ]
  },
  {
   "cell_type": "code",
   "execution_count": 7,
   "metadata": {},
   "outputs": [
    {
     "name": "stdout",
     "output_type": "stream",
     "text": [
      "Couldn't find a hotel here at Nioro, GM\n",
      "Couldn't find a hotel here at Barentu, ER\n",
      "Couldn't find a hotel here at Beloha, MG\n"
     ]
    }
   ],
   "source": [
    "params = {\n",
    "    \"radius\": 5000,\n",
    "    \"types\": \"lodging\",\n",
    "    \"keyword\": \"hotel\",\n",
    "    \"key\": g_key\n",
    "}\n",
    "for index, row in hotel_df.iterrows():\n",
    "    lat = row[\"Lat\"]\n",
    "    lng = row[\"Lng\"]\n",
    "    params[\"location\"] = f\"{lat},{lng}\"\n",
    "    base_url = \"https://maps.googleapis.com/maps/api/place/nearbysearch/json\"\n",
    "    name_address = requests.get(base_url, params=params).json()\n",
    "    try:\n",
    "        hotel_df.loc[index, \"Hotel Name\"] = name_address[\"results\"][0][\"name\"]\n",
    "    except (KeyError, IndexError):\n",
    "        hotel_df.loc[index, \"Hotel Name\"] = \"NA\"\n",
    "        print(\"Couldn't find a hotel here at \" + row[\"City\"] + \", \" + row[\"Country\"])"
   ]
  },
  {
   "cell_type": "code",
   "execution_count": 8,
   "metadata": {},
   "outputs": [],
   "source": [
    "# NOTE: Do not change any of the code in this cell\n",
    "\n",
    "# Using the template add the hotel marks to the heatmap\n",
    "info_box_template = \"\"\"\n",
    "<dl>\n",
    "<dt>Name</dt><dd>{Hotel Name}</dd>\n",
    "<dt>City</dt><dd>{City}</dd>\n",
    "<dt>Country</dt><dd>{Country}</dd>\n",
    "</dl>\n",
    "\"\"\"\n",
    "# Store the DataFrame Row\n",
    "# NOTE: be sure to update with your DataFrame name\n",
    "hotel_info = [info_box_template.format(**row) for index, row in hotel_df.iterrows()]\n",
    "hover_info = [f\"{row['City']}, {row['Country']}\" for index,row in hotel_df.iterrows()]\n",
    "locations = hotel_df[[\"Lat\", \"Lng\"]]\n",
    "\n",
    "markers = gmaps.marker_layer(\n",
    "    locations, \n",
    "    hover_text=hover_info,\n",
    "    info_box_content=hotel_info)"
   ]
  },
  {
   "cell_type": "code",
   "execution_count": 9,
   "metadata": {},
   "outputs": [
    {
     "data": {
      "application/vnd.jupyter.widget-view+json": {
       "model_id": "52ab9e6fb2154f79bc9e40f601b7cc45",
       "version_major": 2,
       "version_minor": 0
      },
      "text/plain": [
       "Figure(layout=FigureLayout(height='420px'))"
      ]
     },
     "metadata": {},
     "output_type": "display_data"
    }
   ],
   "source": [
    "# Add marker layer ontop of heat map\n",
    "fig.add_layer(markers)\n",
    "fig.add_layer(heat_layer)\n",
    "# Display figure\n",
    "fig"
   ]
  },
  {
   "cell_type": "code",
   "execution_count": null,
   "metadata": {},
   "outputs": [],
   "source": []
  }
 ],
 "metadata": {
  "kernelspec": {
   "display_name": "Python 3",
   "language": "python",
   "name": "python3"
  },
  "language_info": {
   "codemirror_mode": {
    "name": "ipython",
    "version": 3
   },
   "file_extension": ".py",
   "mimetype": "text/x-python",
   "name": "python",
   "nbconvert_exporter": "python",
   "pygments_lexer": "ipython3",
   "version": "3.8.3"
  },
  "latex_envs": {
   "LaTeX_envs_menu_present": true,
   "autoclose": false,
   "autocomplete": true,
   "bibliofile": "biblio.bib",
   "cite_by": "apalike",
   "current_citInitial": 1,
   "eqLabelWithNumbers": true,
   "eqNumInitial": 1,
   "hotkeys": {
    "equation": "Ctrl-E",
    "itemize": "Ctrl-I"
   },
   "labels_anchors": false,
   "latex_user_defs": false,
   "report_style_numbering": false,
   "user_envs_cfg": false
  }
 },
 "nbformat": 4,
 "nbformat_minor": 4
}
